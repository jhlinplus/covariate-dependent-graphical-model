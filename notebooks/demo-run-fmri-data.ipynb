{
 "cells": [
  {
   "cell_type": "code",
   "execution_count": null,
   "id": "5be970b2-429c-4565-be5a-e3db37ea79a0",
   "metadata": {},
   "outputs": [],
   "source": [
    "%cd ~/covariate-dependent-graphical-model"
   ]
  },
  {
   "cell_type": "code",
   "execution_count": 2,
   "id": "2256b03d-1f4e-448b-947d-18a439e1bd7d",
   "metadata": {},
   "outputs": [],
   "source": [
    "import os\n",
    "\n",
    "import matplotlib.pyplot as plt\n",
    "import matplotlib.patches as patches\n",
    "import matplotlib.ticker as ticker\n",
    "from matplotlib.ticker import MultipleLocator\n",
    "import numpy as np\n",
    "import pandas as pd\n",
    "from sklearn.preprocessing import MinMaxScaler, StandardScaler\n",
    "import torch\n",
    "from torch.utils.data import DataLoader"
   ]
  },
  {
   "cell_type": "code",
   "execution_count": 3,
   "id": "5f300df4-a8f4-4c4f-8405-7176605d52dc",
   "metadata": {},
   "outputs": [],
   "source": [
    "from utils.utils_eval import get_heatmap, get_network_metrics_snapshots\n",
    "from utils import utils_train\n",
    "from utils.datasets import RealDatasetWithCovariates\n",
    "from utils.utils_logging import get_logger\n",
    "logger = get_logger()"
   ]
  },
  {
   "cell_type": "code",
   "execution_count": 4,
   "id": "0767ec12-e697-4c49-8a14-90c30374b91e",
   "metadata": {},
   "outputs": [],
   "source": [
    "output_dir = 'output/brain'\n",
    "os.makedirs(output_dir, exist_ok=True)\n",
    "\n",
    "LOAD_SAVED_MODEL = False\n",
    "ckpt_dir = 'ckpts'\n",
    "os.makedirs(ckpt_dir, exist_ok=True)\n",
    "ckpt_path = os.path.join(ckpt_dir, f'model_checkpoint_fmri.pth')"
   ]
  },
  {
   "cell_type": "markdown",
   "id": "3d29a453-5be4-4dfc-b5c3-4e22eefadd90",
   "metadata": {},
   "source": [
    "# 0. Load data and some basic data prep"
   ]
  },
  {
   "cell_type": "code",
   "execution_count": 5,
   "id": "90453812-a482-444f-83cb-f9a1f41d3a2c",
   "metadata": {},
   "outputs": [],
   "source": [
    "data_str = 'p1' ## or p2"
   ]
  },
  {
   "cell_type": "code",
   "execution_count": 6,
   "id": "db67a1b5-d0d1-4c11-956c-edef80e30544",
   "metadata": {},
   "outputs": [],
   "source": [
    "seed = 1001\n",
    "device = torch.device('cuda:1') if torch.cuda.is_available() else torch.device('cpu')"
   ]
  },
  {
   "cell_type": "code",
   "execution_count": 7,
   "id": "04d53de4-ec06-4f5e-8fcc-ceda819927a7",
   "metadata": {},
   "outputs": [
    {
     "name": "stdout",
     "output_type": "stream",
     "text": [
      "['ids', 'labels', 'label_names', 'map_names', 'x', 'z_ids', 'z_scores', 'submap_node', 'submap_network']\n"
     ]
    }
   ],
   "source": [
    "data = np.load(f'data/brain/data_{data_str}.npz', allow_pickle=True)\n",
    "print(data.files)"
   ]
  },
  {
   "cell_type": "code",
   "execution_count": 8,
   "id": "b3047fd6-caad-428a-8791-06e4551d599c",
   "metadata": {},
   "outputs": [],
   "source": [
    "num_nodes = data['labels']"
   ]
  },
  {
   "cell_type": "code",
   "execution_count": 9,
   "id": "2f4c1669-7f5a-4365-8d7a-19847d69c4a4",
   "metadata": {},
   "outputs": [],
   "source": [
    "scores = np.array(data['z_scores'],dtype=np.float32)\n",
    "score_scaler = MinMaxScaler(feature_range=(-1, 1)).fit(scores.reshape(-1,1))\n",
    "scores = score_scaler.transform(scores.reshape(-1,1)).flatten()"
   ]
  },
  {
   "cell_type": "code",
   "execution_count": 10,
   "id": "1e747541-1b8a-4fb0-9496-938d0b9f85b3",
   "metadata": {},
   "outputs": [],
   "source": [
    "num_subjects, num_nodes, num_pts = data['x'].shape\n",
    "num_pts_train, num_pts_val = 800, 200\n",
    "num_pts_test = num_pts - num_pts_train - num_pts_val\n",
    "\n",
    "x_train_raw, x_val_raw = data['x'][:,:,:num_pts_train], data['x'][:,:,num_pts_train:(num_pts_train+num_pts_val)] \n",
    "x_test_raw = data['x'][:,:,-num_pts_test:]"
   ]
  },
  {
   "cell_type": "code",
   "execution_count": 11,
   "id": "df0b11ab-4b0d-4a2c-9fce-a2ca615ea72b",
   "metadata": {},
   "outputs": [
    {
     "data": {
      "text/plain": [
       "((549, 268, 800), (549, 268, 200), (549, 268, 200))"
      ]
     },
     "execution_count": 11,
     "metadata": {},
     "output_type": "execute_result"
    }
   ],
   "source": [
    "x_train_raw.shape, x_val_raw.shape, x_test_raw.shape"
   ]
  },
  {
   "cell_type": "code",
   "execution_count": 12,
   "id": "4934fedf-25cd-48b0-b91c-3cade39a8bd3",
   "metadata": {},
   "outputs": [],
   "source": [
    "x_train = x_train_raw.transpose(0,2,1).reshape(-1, num_nodes)\n",
    "x_val = x_val_raw.transpose(0,2,1).reshape(-1, num_nodes)\n",
    "x_test = x_test_raw.transpose(0,2,1).reshape(-1, num_nodes)"
   ]
  },
  {
   "cell_type": "code",
   "execution_count": 13,
   "id": "436bdac2-fc72-4fb9-a21c-c0e170f8b561",
   "metadata": {},
   "outputs": [],
   "source": [
    "x_scaler = StandardScaler().fit(np.concatenate([x_train, x_val],axis=0))\n",
    "x_train, x_val, x_test = x_scaler.transform(x_train), x_scaler.transform(x_val), x_scaler.transform(x_test)"
   ]
  },
  {
   "cell_type": "code",
   "execution_count": 14,
   "id": "0286fa2d-85dc-49b1-b172-6ceb022a1bc9",
   "metadata": {},
   "outputs": [],
   "source": [
    "z_train = np.repeat(scores, x_train_raw.shape[-1]).reshape(-1,1)\n",
    "z_val = np.repeat(scores, x_val_raw.shape[-1]).reshape(-1,1)\n",
    "z_test = np.repeat(scores, x_test_raw.shape[-1]).reshape(-1,1)"
   ]
  },
  {
   "cell_type": "markdown",
   "id": "b98c169d-e41b-4d8a-9936-fb96527f301d",
   "metadata": {},
   "source": [
    "# 1. Set up configs and create dataloaders"
   ]
  },
  {
   "cell_type": "code",
   "execution_count": 15,
   "id": "67c77e1d-5d8f-4dc2-be26-1cf34df72a5b",
   "metadata": {},
   "outputs": [],
   "source": [
    "network_configs = {\n",
    "    'model_name': 'dnnCGM', \n",
    "    'num_nodes': num_nodes, \n",
    "    'num_covariates': 1, \n",
    "    'beta_hidden_dims': 64, \n",
    "    'beta_dropout': 0.3, \n",
    "    'beta_batch_norm': False,\n",
    "    'beta_bias': False\n",
    "}\n",
    "\n",
    "opt_configs = {\n",
    "    'learning_rate': 0.0005, \n",
    "    'scheduler_type': 'StepLR', \n",
    "    'step_size': 20, \n",
    "    'gamma': 0.25\n",
    "}\n",
    "\n",
    "train_configs = {\n",
    "    'max_epochs': 50, \n",
    "    'gradient_clip_val': 1.0, \n",
    "    'limit_val_batches': 50, \n",
    "    'batch_size': 1024, \n",
    "    'verbose': 20, \n",
    "    'es_patience': None, \n",
    "    'es_monitor': 'val_loss'\n",
    "}"
   ]
  },
  {
   "cell_type": "code",
   "execution_count": 16,
   "id": "e5979886-9118-4f15-bfa0-bf5db7b1b9d3",
   "metadata": {},
   "outputs": [],
   "source": [
    "utils_train.fix_seed(seed)"
   ]
  },
  {
   "cell_type": "code",
   "execution_count": 17,
   "id": "841e1b96-e20e-4c58-828a-118aa594c2ff",
   "metadata": {},
   "outputs": [],
   "source": [
    "train_dataset = RealDatasetWithCovariates(x=x_train, z=z_train)\n",
    "val_dataset = RealDatasetWithCovariates(x=x_val, z=z_val)\n",
    "test_dataset = RealDatasetWithCovariates(x=x_test, z=z_test)"
   ]
  },
  {
   "cell_type": "code",
   "execution_count": 18,
   "id": "7edf7afa-dac4-4eb9-b7e3-7e91cef35062",
   "metadata": {},
   "outputs": [],
   "source": [
    "train_dl = DataLoader(train_dataset, batch_size=train_configs['batch_size'], num_workers=4, shuffle=True, drop_last=True, persistent_workers=False)\n",
    "val_dl = DataLoader(val_dataset, batch_size=train_configs['batch_size'], num_workers=4, shuffle=False, drop_last=True, persistent_workers=False)\n",
    "test_dl = DataLoader(test_dataset, batch_size=1024, num_workers=4, shuffle=False, drop_last=False, persistent_workers=False)"
   ]
  },
  {
   "cell_type": "code",
   "execution_count": 19,
   "id": "c8e17e8c-5fed-436c-b563-e6002b5d273d",
   "metadata": {},
   "outputs": [
    {
     "data": {
      "text/plain": [
       "(428, 107, 108)"
      ]
     },
     "execution_count": 19,
     "metadata": {},
     "output_type": "execute_result"
    }
   ],
   "source": [
    "len(train_dl), len(val_dl), len(test_dl)"
   ]
  },
  {
   "cell_type": "markdown",
   "id": "74ca35dd-1a6e-4503-a12b-63506344e8ca",
   "metadata": {},
   "source": [
    "# 2. Train the model"
   ]
  },
  {
   "cell_type": "code",
   "execution_count": 20,
   "id": "b29046cc-de7b-48fd-a1d0-254540404a9e",
   "metadata": {},
   "outputs": [
    {
     "name": "stderr",
     "output_type": "stream",
     "text": [
      "2025-04-22 14:14:38;INFO;utils_train:74 - model dnnCGM initialized on device cuda:1\n"
     ]
    },
    {
     "name": "stdout",
     "output_type": "stream",
     "text": [
      "====================\n",
      "total number of parameters: 4,583,808\n",
      "====================\n"
     ]
    }
   ],
   "source": [
    "model, optimizer, scheduler = utils_train.initialize_model_and_optimizer(network_configs,\n",
    "                                                                         opt_configs,\n",
    "                                                                         device)"
   ]
  },
  {
   "cell_type": "code",
   "execution_count": 21,
   "id": "3ed37152-42c9-4677-a3dd-36c4da202695",
   "metadata": {},
   "outputs": [
    {
     "name": "stdout",
     "output_type": "stream",
     "text": [
      ">> Epoch=001, lr=5.0E-04; train_loss=0.7344; val_loss=0.6757; [timer=8s/epoch]\n",
      ">> Epoch=020, lr=1.3E-04; train_loss=0.6381; val_loss=0.6642; [timer=8s/epoch]\n",
      ">> Epoch=040, lr=3.1E-05; train_loss=0.6359; val_loss=0.6634; [timer=8s/epoch]\n"
     ]
    },
    {
     "name": "stderr",
     "output_type": "stream",
     "text": [
      "2025-04-22 14:21:28;INFO;utils_train:230 - model training completed; total time elapsed = 6.82 mins\n",
      "2025-04-22 14:21:28;INFO;2788002469:10 - model saved to ckpts/model_checkpoint_fmri.pth\n"
     ]
    }
   ],
   "source": [
    "if LOAD_SAVED_MODEL:\n",
    "    checkpoint = torch.load(ckpt_path, map_location=device)\n",
    "    model.load_state_dict(checkpoint['model_state_dict'])\n",
    "    optimizer.load_state_dict(checkpoint['optimizer_state_dict'])\n",
    "    logger.info(f'model loaded from {ckpt_path}')\n",
    "else:\n",
    "    utils_train.model_fit(model, optimizer, scheduler, train_configs, train_dl, val_dl, output_dir, use_meter=False)\n",
    "    checkpoint = {'model_state_dict': model.state_dict(), 'optimizer_state_dict': optimizer.state_dict()}\n",
    "    torch.save(checkpoint, ckpt_path)\n",
    "    logger.info(f'model saved to {ckpt_path}')"
   ]
  },
  {
   "cell_type": "markdown",
   "id": "6cb2132c-59fa-464b-8682-516473233143",
   "metadata": {},
   "source": [
    "## 2.0 predict on test set"
   ]
  },
  {
   "cell_type": "code",
   "execution_count": 22,
   "id": "c525d56c-ecc5-404b-84b7-bdc74fd27909",
   "metadata": {},
   "outputs": [
    {
     "name": "stdout",
     "output_type": "stream",
     "text": [
      "CPU times: user 2min 16s, sys: 52.8 s, total: 3min 9s\n",
      "Wall time: 23.9 s\n"
     ]
    },
    {
     "data": {
      "text/plain": [
       "(109800, 268, 268)"
      ]
     },
     "execution_count": 22,
     "metadata": {},
     "output_type": "execute_result"
    }
   ],
   "source": [
    "%%time\n",
    "preds, graphs = utils_train.model_predict(model, test_dl)\n",
    "graphs.shape"
   ]
  },
  {
   "cell_type": "code",
   "execution_count": 23,
   "id": "ecb5bf4a-87c5-4eed-8113-ca1c969d0107",
   "metadata": {},
   "outputs": [],
   "source": [
    "graphs_reshaped = graphs.reshape(num_subjects, num_pts_test, num_nodes, num_nodes)\n",
    "graphs_by_subject = graphs_reshaped[:,0,:,:]\n",
    "np.save(f'{output_dir}/graphs_by_subject_{data_str}.npy', graphs_by_subject)"
   ]
  },
  {
   "cell_type": "markdown",
   "id": "83ab6804-eeed-4861-a7db-cce8806d74bb",
   "metadata": {},
   "source": [
    "## 2.1 gather results by sub-network/score"
   ]
  },
  {
   "cell_type": "code",
   "execution_count": 24,
   "id": "a87a9a2b-cf04-4519-8abd-d26f4d439d20",
   "metadata": {},
   "outputs": [],
   "source": [
    "submap = pd.DataFrame()\n",
    "submap['node'], submap['network'] = data['submap_node'], data['submap_network']\n",
    "submap['network'] = submap['network'].astype(int)\n",
    "submap['network_name'] = submap['network'].apply(lambda x: data['map_names'][x-1])\n",
    "\n",
    "def get_node_id_by_region(network_name, submap):\n",
    "    ## convert to 0-index\n",
    "    node_ids = [node_id - 1 for node_id in submap.loc[submap['network_name']==network_name,'node'].tolist()]\n",
    "    return node_ids"
   ]
  },
  {
   "cell_type": "code",
   "execution_count": 25,
   "id": "9f57d0fe-b6d7-4208-a516-e2e3f94695a7",
   "metadata": {},
   "outputs": [
    {
     "data": {
      "text/plain": [
       "(549, 268, 268)"
      ]
     },
     "execution_count": 25,
     "metadata": {},
     "output_type": "execute_result"
    }
   ],
   "source": [
    "graphs_by_subject = np.load(f'{output_dir}/graphs_by_subject_{data_str}.npy')\n",
    "graphs_by_subject.shape"
   ]
  },
  {
   "cell_type": "code",
   "execution_count": 26,
   "id": "9386e520-5c04-4d5e-b4c7-77ac2a5c85f3",
   "metadata": {},
   "outputs": [],
   "source": [
    "score_cut = list(np.quantile(scores,q=[0.25,0.50,0.75,1.0]))\n",
    "score_cut = [(min(scores)-1 if i == 0 else score_cut[i-1], score_cut[i]) for i in range(len(score_cut))] "
   ]
  },
  {
   "cell_type": "code",
   "execution_count": 27,
   "id": "fa332564-b71a-4513-b2e0-1467797b639a",
   "metadata": {},
   "outputs": [],
   "source": [
    "labelmap = pd.DataFrame()\n",
    "labelmap['node_label'] = data['labels'].astype(int) - 1\n",
    "labelmap['node_label_name'] = labelmap['node_label'].apply(lambda x: data['label_names'][x])\n",
    "labelmap = dict(zip(np.arange(num_nodes), labelmap['node_label_name']))\n",
    "\n",
    "def get_node_label_by_id(node_ids, labelmap):\n",
    "    return [labelmap[node_id] for node_id in node_ids]"
   ]
  },
  {
   "cell_type": "code",
   "execution_count": null,
   "id": "85afb513-05e8-4b7a-b979-53e4e2faad47",
   "metadata": {},
   "outputs": [],
   "source": []
  },
  {
   "cell_type": "code",
   "execution_count": 28,
   "id": "fa46fb2e-b81f-48bb-9d38-62e3cc84d5d5",
   "metadata": {},
   "outputs": [
    {
     "name": "stdout",
     "output_type": "stream",
     "text": [
      "region=frontoparietal; graph_shape=(549, 34, 34)\n",
      "region=subcortical-cerebellar; graph_shape=(549, 90, 90)\n",
      "region=default mode; graph_shape=(549, 20, 20)\n",
      "region=medial frontal; graph_shape=(549, 29, 29)\n",
      "region=motor; graph_shape=(549, 50, 50)\n",
      "region=visual; graph_shape=(549, 45, 45)\n"
     ]
    }
   ],
   "source": [
    "graphs_subnet_by_quantile = {}\n",
    "for network_name in submap['network_name'].unique():\n",
    "    \n",
    "    node_ids = get_node_id_by_region(network_name, submap)\n",
    "    node_labels = np.array(get_node_label_by_id(node_ids, labelmap))\n",
    "\n",
    "    ## record label coverage\n",
    "    dict_arr, vh_arr, size_arr = [], [], []\n",
    "    for key in np.unique(node_labels):\n",
    "        dict_arr.append(np.where(node_labels==key)[0][0] + len(np.where(node_labels==key)[0])//2+1)\n",
    "        vh_arr.append(np.where(node_labels==key)[0][0])    \n",
    "        size_arr.append(len(np.where(node_labels==key)[0]))\n",
    "    \n",
    "    graph_this_subnet = np.stack([graphs_by_subject[subject_id][np.ix_(node_ids, node_ids)] for subject_id in range(graphs_by_subject.shape[0])])\n",
    "    print(f'region={network_name}; graph_shape={graph_this_subnet.shape}')\n",
    "    \n",
    "    graphs_subnet_by_quantile[network_name] = {'node_labels': node_labels, 'dict_arr': dict_arr, 'vh_arr': vh_arr, 'size_arr': size_arr}    \n",
    "    for q_idx, (score_min, score_max) in enumerate(score_cut):\n",
    "        subject_ids = np.where( (scores <= score_max) & (scores > score_min))[0]\n",
    "        graphs_subnet_by_quantile[network_name][f'q{q_idx+1}'] = {'avg_graph': np.stack([graph_this_subnet[subject_id] for subject_id in subject_ids], axis=0).mean(axis=0), \n",
    "                                                     'num_subjects': len(subject_ids)}\n",
    "        "
   ]
  },
  {
   "cell_type": "code",
   "execution_count": null,
   "id": "4ac67bd6-c316-4216-ae73-a44b81f862cf",
   "metadata": {},
   "outputs": [],
   "source": []
  },
  {
   "cell_type": "markdown",
   "id": "791663f3-c0d9-4e1d-a230-c6fddeaf96b4",
   "metadata": {},
   "source": [
    "# 2. Results visualization"
   ]
  },
  {
   "cell_type": "code",
   "execution_count": 29,
   "id": "ac9de0a4-4d3b-4762-ae06-fa5b3df1e7d9",
   "metadata": {},
   "outputs": [],
   "source": [
    "region_key, threshold = 'medial frontal', 0.05\n",
    "content = graphs_subnet_by_quantile[region_key]"
   ]
  },
  {
   "cell_type": "code",
   "execution_count": 30,
   "id": "df771717-dada-437a-8e3f-efb27b12e6af",
   "metadata": {},
   "outputs": [
    {
     "data": {
      "image/png": "[encoded data removed]",
      "text/plain": [
       "<Figure size 1200x600 with 2 Axes>"
      ]
     },
     "metadata": {},
     "output_type": "display_data"
    }
   ],
   "source": [
    "fig, axs = plt.subplots(1,2,figsize=(12,6),constrained_layout=True)\n",
    "for score_id, quantile_key in enumerate(['q1','q4']):\n",
    "    \n",
    "    ax_id = score_id\n",
    "    graph = content[quantile_key]['avg_graph']\n",
    "    graph = (-1)*(graph + graph.transpose())/2\n",
    "    \n",
    "    density_unw = (np.abs(graph)>threshold).sum()/(graph.shape[0]**2)\n",
    "    density_w = (np.abs(graph)*(np.abs(graph)>threshold)).sum()/(graph.shape[0]**2)\n",
    "\n",
    "    get_heatmap(graph, axs[ax_id], rm_diag=True, threshold=threshold)\n",
    "    axs[ax_id].set_title(f'quantile={quantile_key}; density (unweighted)={density_unw*100:.2f}%', \n",
    "                     fontsize=10)\n",
    "\n",
    "    axs[ax_id].xaxis.set_major_locator(ticker.FixedLocator(content['dict_arr']))\n",
    "    axs[ax_id].yaxis.set_major_locator(ticker.FixedLocator(content['dict_arr']))\n",
    "    axs[ax_id].set_xticklabels(labels=np.unique(content['node_labels']), rotation=45, ha='right',fontsize=8)\n",
    "    axs[ax_id].set_yticklabels(labels=np.unique(content['node_labels']), rotation=0, ha='right',fontsize=8)\n",
    "    \n",
    "    for ix, idxv in enumerate(content['vh_arr']):\n",
    "        rect = patches.Rectangle((idxv, idxv), content['size_arr'][ix],\n",
    "                                 content['size_arr'][ix], linewidth=1, edgecolor='black', facecolor='none')\n",
    "        axs[ax_id].add_patch(rect)\n",
    "\n",
    "fig.savefig(f'{output_dir}/{data_str}_{region_key}_q1_vs_q4.png')"
   ]
  },
  {
   "cell_type": "code",
   "execution_count": null,
   "id": "d9d21878-108a-43c5-9069-08422672b4eb",
   "metadata": {},
   "outputs": [],
   "source": []
  }
 ],
 "metadata": {
  "kernelspec": {
   "display_name": "Python 3 (ipykernel)",
   "language": "python",
   "name": "python3"
  },
  "language_info": {
   "codemirror_mode": {
    "name": "ipython",
    "version": 3
   },
   "file_extension": ".py",
   "mimetype": "text/x-python",
   "name": "python",
   "nbconvert_exporter": "python",
   "pygments_lexer": "ipython3",
   "version": "3.10.16"
  }
 },
 "nbformat": 4,
 "nbformat_minor": 5
}
